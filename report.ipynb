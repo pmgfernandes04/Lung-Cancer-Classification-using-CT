{
 "cells": [
  {
   "cell_type": "markdown",
   "metadata": {},
   "source": [
    "# Lung Cancer Classification using Computerized Tomography\n",
    "### Project made by: ...\n",
    "\n",
    "\n",
    "topicos (seguindo uma aproach CRISP-DM como ta na print no ds):\n",
    "\n",
    "- **project introduction and objective and prospects** (explicar o objetivo do trabalho, diagnostico nao invasivo, o que queremos extrair e de onde, e talvez como, etc)\n",
    "- **data understanding** (algo como a conversao da data inicial para o csv, explorar propriedades e assim, notar se ha corrompidos, do genero)\n",
    "- **data processing** (cleanup, organizacao)\n",
    "- **modelling**: e preciso varios modelos, varias propriedades, etc, codigo mais maluco aqui de certeza\n",
    "- **results/evaluation**: comparar algoritmos, performance e assim\n",
    "- **ethics** se nao me engano e 1 pagina, mas tba, explicar a moralidade dos dados e assim ig???\n",
    "- **conclusion**: review project, conclusao, functonou modCheck?"
   ]
  },
  {
   "cell_type": "markdown",
   "metadata": {},
   "source": []
  }
 ],
 "metadata": {
  "language_info": {
   "name": "python"
  }
 },
 "nbformat": 4,
 "nbformat_minor": 2
}
